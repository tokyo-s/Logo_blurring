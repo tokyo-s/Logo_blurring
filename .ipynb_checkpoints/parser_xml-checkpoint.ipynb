{
 "cells": [
  {
   "cell_type": "code",
   "execution_count": 7,
   "metadata": {},
   "outputs": [],
   "source": [
    "import xml.etree.ElementTree as ET\n",
    "root = ET.parse(r'D:\\programming\\ML\\Sigmoid\\Logo bluring\\archive (10)\\LogoDet-3K\\Clothes\\2xist\\1.xml').getroot()"
   ]
  },
  {
   "cell_type": "code",
   "execution_count": 11,
   "metadata": {},
   "outputs": [
    {
     "name": "stdout",
     "output_type": "stream",
     "text": [
      "None\n"
     ]
    }
   ],
   "source": [
    "for type_tag in root.findall('object/bndbox'):\n",
    "    print(type_tag.get('xmin'))\n",
    "    "
   ]
  },
  {
   "cell_type": "code",
   "execution_count": null,
   "metadata": {},
   "outputs": [],
   "source": [
    "### Somethin like while nr.xml exists extract data"
   ]
  },
  {
   "cell_type": "code",
   "execution_count": 19,
   "metadata": {},
   "outputs": [],
   "source": [
    "import pandas as pd\n",
    "\n"
   ]
  },
  {
   "cell_type": "code",
   "execution_count": 20,
   "metadata": {},
   "outputs": [],
   "source": [
    "# df = df.append(pd.Series([current_game.headers.get('WhiteElo'),current_game.headers.get('BlackElo'),current_game.headers.get('Result'),result,png_text]),ignore_index=True)"
   ]
  },
  {
   "cell_type": "code",
   "execution_count": 42,
   "metadata": {},
   "outputs": [
    {
     "ename": "KeyboardInterrupt",
     "evalue": "",
     "output_type": "error",
     "traceback": [
      "\u001b[1;31m---------------------------------------------------------------------------\u001b[0m",
      "\u001b[1;31mKeyboardInterrupt\u001b[0m                         Traceback (most recent call last)",
      "\u001b[1;32m<ipython-input-42-9bc241094825>\u001b[0m in \u001b[0;36m<module>\u001b[1;34m\u001b[0m\n\u001b[0;32m     15\u001b[0m             \u001b[1;32mif\u001b[0m \u001b[1;32mnot\u001b[0m \u001b[0mfile\u001b[0m\u001b[1;33m.\u001b[0m\u001b[0mendswith\u001b[0m\u001b[1;33m(\u001b[0m\u001b[1;34m'.xml'\u001b[0m\u001b[1;33m)\u001b[0m\u001b[1;33m:\u001b[0m \u001b[1;32mcontinue\u001b[0m\u001b[1;33m\u001b[0m\u001b[1;33m\u001b[0m\u001b[0m\n\u001b[0;32m     16\u001b[0m             \u001b[0mpath_to_firm_file\u001b[0m \u001b[1;33m=\u001b[0m \u001b[0mos\u001b[0m\u001b[1;33m.\u001b[0m\u001b[0mpath\u001b[0m\u001b[1;33m.\u001b[0m\u001b[0mjoin\u001b[0m\u001b[1;33m(\u001b[0m\u001b[0mpath_to_firm\u001b[0m\u001b[1;33m,\u001b[0m\u001b[0mfile\u001b[0m\u001b[1;33m)\u001b[0m\u001b[1;33m\u001b[0m\u001b[1;33m\u001b[0m\u001b[0m\n\u001b[1;32m---> 17\u001b[1;33m             \u001b[0mdoc1\u001b[0m \u001b[1;33m=\u001b[0m \u001b[0mET\u001b[0m\u001b[1;33m.\u001b[0m\u001b[0mparse\u001b[0m\u001b[1;33m(\u001b[0m\u001b[0mpath_to_firm_file\u001b[0m\u001b[1;33m)\u001b[0m\u001b[1;33m\u001b[0m\u001b[1;33m\u001b[0m\u001b[0m\n\u001b[0m\u001b[0;32m     18\u001b[0m             \u001b[0mroot\u001b[0m \u001b[1;33m=\u001b[0m \u001b[0mdoc1\u001b[0m\u001b[1;33m.\u001b[0m\u001b[0mgetroot\u001b[0m\u001b[1;33m(\u001b[0m\u001b[1;33m)\u001b[0m\u001b[1;33m\u001b[0m\u001b[1;33m\u001b[0m\u001b[0m\n\u001b[0;32m     19\u001b[0m             \u001b[1;32mfor\u001b[0m \u001b[0melement\u001b[0m \u001b[1;32min\u001b[0m \u001b[0mroot\u001b[0m\u001b[1;33m.\u001b[0m\u001b[0mfindall\u001b[0m\u001b[1;33m(\u001b[0m\u001b[1;34m'object/bndbox'\u001b[0m\u001b[1;33m)\u001b[0m\u001b[1;33m:\u001b[0m\u001b[1;33m\u001b[0m\u001b[1;33m\u001b[0m\u001b[0m\n",
      "\u001b[1;32mc:\\python38\\lib\\xml\\etree\\ElementTree.py\u001b[0m in \u001b[0;36mparse\u001b[1;34m(source, parser)\u001b[0m\n\u001b[0;32m   1200\u001b[0m     \"\"\"\n\u001b[0;32m   1201\u001b[0m     \u001b[0mtree\u001b[0m \u001b[1;33m=\u001b[0m \u001b[0mElementTree\u001b[0m\u001b[1;33m(\u001b[0m\u001b[1;33m)\u001b[0m\u001b[1;33m\u001b[0m\u001b[1;33m\u001b[0m\u001b[0m\n\u001b[1;32m-> 1202\u001b[1;33m     \u001b[0mtree\u001b[0m\u001b[1;33m.\u001b[0m\u001b[0mparse\u001b[0m\u001b[1;33m(\u001b[0m\u001b[0msource\u001b[0m\u001b[1;33m,\u001b[0m \u001b[0mparser\u001b[0m\u001b[1;33m)\u001b[0m\u001b[1;33m\u001b[0m\u001b[1;33m\u001b[0m\u001b[0m\n\u001b[0m\u001b[0;32m   1203\u001b[0m     \u001b[1;32mreturn\u001b[0m \u001b[0mtree\u001b[0m\u001b[1;33m\u001b[0m\u001b[1;33m\u001b[0m\u001b[0m\n\u001b[0;32m   1204\u001b[0m \u001b[1;33m\u001b[0m\u001b[0m\n",
      "\u001b[1;32mc:\\python38\\lib\\xml\\etree\\ElementTree.py\u001b[0m in \u001b[0;36mparse\u001b[1;34m(self, source, parser)\u001b[0m\n\u001b[0;32m    582\u001b[0m         \u001b[0mclose_source\u001b[0m \u001b[1;33m=\u001b[0m \u001b[1;32mFalse\u001b[0m\u001b[1;33m\u001b[0m\u001b[1;33m\u001b[0m\u001b[0m\n\u001b[0;32m    583\u001b[0m         \u001b[1;32mif\u001b[0m \u001b[1;32mnot\u001b[0m \u001b[0mhasattr\u001b[0m\u001b[1;33m(\u001b[0m\u001b[0msource\u001b[0m\u001b[1;33m,\u001b[0m \u001b[1;34m\"read\"\u001b[0m\u001b[1;33m)\u001b[0m\u001b[1;33m:\u001b[0m\u001b[1;33m\u001b[0m\u001b[1;33m\u001b[0m\u001b[0m\n\u001b[1;32m--> 584\u001b[1;33m             \u001b[0msource\u001b[0m \u001b[1;33m=\u001b[0m \u001b[0mopen\u001b[0m\u001b[1;33m(\u001b[0m\u001b[0msource\u001b[0m\u001b[1;33m,\u001b[0m \u001b[1;34m\"rb\"\u001b[0m\u001b[1;33m)\u001b[0m\u001b[1;33m\u001b[0m\u001b[1;33m\u001b[0m\u001b[0m\n\u001b[0m\u001b[0;32m    585\u001b[0m             \u001b[0mclose_source\u001b[0m \u001b[1;33m=\u001b[0m \u001b[1;32mTrue\u001b[0m\u001b[1;33m\u001b[0m\u001b[1;33m\u001b[0m\u001b[0m\n\u001b[0;32m    586\u001b[0m         \u001b[1;32mtry\u001b[0m\u001b[1;33m:\u001b[0m\u001b[1;33m\u001b[0m\u001b[1;33m\u001b[0m\u001b[0m\n",
      "\u001b[1;31mKeyboardInterrupt\u001b[0m: "
     ]
    }
   ],
   "source": [
    "import os\n",
    "import pandas as pd\n",
    "import xml.etree.ElementTree as ET    \n",
    "path = r'D:\\programming\\ML\\Sigmoid\\Logo bluring\\archive (10)\\LogoDet-3K'\n",
    "\n",
    "df = pd.DataFrame()\n",
    "types = os.listdir(path) \n",
    "for type_ in types:\n",
    "    path_2 = os.path.join(path,type_)\n",
    "    firm_directories = os.listdir(path_2)\n",
    "    for firm in firm_directories:\n",
    "        path_to_firm = os.path.join(path_2,firm)\n",
    "        firm_files = os.listdir(path_to_firm)\n",
    "        for file in firm_files:\n",
    "            if not file.endswith('.xml'): continue\n",
    "            path_to_firm_file = os.path.join(path_to_firm,file)\n",
    "            doc1 = ET.parse(path_to_firm_file)\n",
    "            root = doc1.getroot()\n",
    "            for element in root.findall('object/bndbox'):\n",
    "                l = [os.path.join(type_,firm,file), type_, firm]\n",
    "                for crd in element:\n",
    "                    l.append(crd.text)\n",
    "                df = df.append(pd.Series(l),ignore_index = True)\n",
    "df"
   ]
  },
  {
   "cell_type": "code",
   "execution_count": null,
   "metadata": {},
   "outputs": [],
   "source": []
  },
  {
   "cell_type": "code",
   "execution_count": null,
   "metadata": {},
   "outputs": [],
   "source": []
  },
  {
   "cell_type": "code",
   "execution_count": 45,
   "metadata": {},
   "outputs": [
    {
     "data": {
      "text/html": [
       "<div>\n",
       "<style scoped>\n",
       "    .dataframe tbody tr th:only-of-type {\n",
       "        vertical-align: middle;\n",
       "    }\n",
       "\n",
       "    .dataframe tbody tr th {\n",
       "        vertical-align: top;\n",
       "    }\n",
       "\n",
       "    .dataframe thead th {\n",
       "        text-align: right;\n",
       "    }\n",
       "</style>\n",
       "<table border=\"1\" class=\"dataframe\">\n",
       "  <thead>\n",
       "    <tr style=\"text-align: right;\">\n",
       "      <th></th>\n",
       "      <th>0</th>\n",
       "      <th>1</th>\n",
       "      <th>2</th>\n",
       "      <th>3</th>\n",
       "      <th>4</th>\n",
       "      <th>5</th>\n",
       "    </tr>\n",
       "  </thead>\n",
       "  <tbody>\n",
       "    <tr>\n",
       "      <th>0</th>\n",
       "      <td>Adidas SB\\1.jpg</td>\n",
       "      <td>Adidas SB</td>\n",
       "      <td>77</td>\n",
       "      <td>122</td>\n",
       "      <td>407</td>\n",
       "      <td>226</td>\n",
       "    </tr>\n",
       "    <tr>\n",
       "      <th>1</th>\n",
       "      <td>Adidas SB\\11.jpg</td>\n",
       "      <td>Adidas SB</td>\n",
       "      <td>374</td>\n",
       "      <td>338</td>\n",
       "      <td>483</td>\n",
       "      <td>369</td>\n",
       "    </tr>\n",
       "    <tr>\n",
       "      <th>2</th>\n",
       "      <td>Adidas SB\\12.jpg</td>\n",
       "      <td>Adidas SB</td>\n",
       "      <td>35</td>\n",
       "      <td>261</td>\n",
       "      <td>488</td>\n",
       "      <td>369</td>\n",
       "    </tr>\n",
       "    <tr>\n",
       "      <th>3</th>\n",
       "      <td>Adidas SB\\13.jpg</td>\n",
       "      <td>Adidas SB</td>\n",
       "      <td>60</td>\n",
       "      <td>244</td>\n",
       "      <td>444</td>\n",
       "      <td>324</td>\n",
       "    </tr>\n",
       "    <tr>\n",
       "      <th>4</th>\n",
       "      <td>Adidas SB\\14.jpg</td>\n",
       "      <td>Adidas SB</td>\n",
       "      <td>89</td>\n",
       "      <td>305</td>\n",
       "      <td>131</td>\n",
       "      <td>350</td>\n",
       "    </tr>\n",
       "    <tr>\n",
       "      <th>...</th>\n",
       "      <td>...</td>\n",
       "      <td>...</td>\n",
       "      <td>...</td>\n",
       "      <td>...</td>\n",
       "      <td>...</td>\n",
       "      <td>...</td>\n",
       "    </tr>\n",
       "    <tr>\n",
       "      <th>5945</th>\n",
       "      <td>zara\\95.jpg</td>\n",
       "      <td>zara</td>\n",
       "      <td>22</td>\n",
       "      <td>133</td>\n",
       "      <td>452</td>\n",
       "      <td>267</td>\n",
       "    </tr>\n",
       "    <tr>\n",
       "      <th>5946</th>\n",
       "      <td>zara\\96.jpg</td>\n",
       "      <td>zara</td>\n",
       "      <td>281</td>\n",
       "      <td>29</td>\n",
       "      <td>406</td>\n",
       "      <td>95</td>\n",
       "    </tr>\n",
       "    <tr>\n",
       "      <th>5947</th>\n",
       "      <td>zara\\97.jpg</td>\n",
       "      <td>zara</td>\n",
       "      <td>76</td>\n",
       "      <td>133</td>\n",
       "      <td>376</td>\n",
       "      <td>231</td>\n",
       "    </tr>\n",
       "    <tr>\n",
       "      <th>5948</th>\n",
       "      <td>zara\\98.jpg</td>\n",
       "      <td>zara</td>\n",
       "      <td>58</td>\n",
       "      <td>75</td>\n",
       "      <td>333</td>\n",
       "      <td>436</td>\n",
       "    </tr>\n",
       "    <tr>\n",
       "      <th>5949</th>\n",
       "      <td>zara\\99.jpg</td>\n",
       "      <td>zara</td>\n",
       "      <td>34</td>\n",
       "      <td>64</td>\n",
       "      <td>331</td>\n",
       "      <td>434</td>\n",
       "    </tr>\n",
       "  </tbody>\n",
       "</table>\n",
       "<p>5950 rows × 6 columns</p>\n",
       "</div>"
      ],
      "text/plain": [
       "                     0          1    2    3    4    5\n",
       "0      Adidas SB\\1.jpg  Adidas SB   77  122  407  226\n",
       "1     Adidas SB\\11.jpg  Adidas SB  374  338  483  369\n",
       "2     Adidas SB\\12.jpg  Adidas SB   35  261  488  369\n",
       "3     Adidas SB\\13.jpg  Adidas SB   60  244  444  324\n",
       "4     Adidas SB\\14.jpg  Adidas SB   89  305  131  350\n",
       "...                ...        ...  ...  ...  ...  ...\n",
       "5945       zara\\95.jpg       zara   22  133  452  267\n",
       "5946       zara\\96.jpg       zara  281   29  406   95\n",
       "5947       zara\\97.jpg       zara   76  133  376  231\n",
       "5948       zara\\98.jpg       zara   58   75  333  436\n",
       "5949       zara\\99.jpg       zara   34   64  331  434\n",
       "\n",
       "[5950 rows x 6 columns]"
      ]
     },
     "execution_count": 45,
     "metadata": {},
     "output_type": "execute_result"
    }
   ],
   "source": [
    "import os\n",
    "import pandas as pd\n",
    "import xml.etree.ElementTree as ET    \n",
    "path = r'D:\\programming\\ML\\Sigmoid\\Logo bluring\\Top_logo_db'\n",
    "\n",
    "df = pd.DataFrame()\n",
    "firm_directories = os.listdir(path)\n",
    "for firm in firm_directories:\n",
    "    path_to_firm = os.path.join(path,firm)\n",
    "    firm_files = os.listdir(path_to_firm)\n",
    "    for file in firm_files:\n",
    "        if not file.endswith('.xml'): \n",
    "            last_file = file\n",
    "            continue\n",
    "        path_to_firm_file = os.path.join(path_to_firm,file)\n",
    "        doc1 = ET.parse(path_to_firm_file)\n",
    "        root = doc1.getroot()\n",
    "        for element in root.findall('object/bndbox'):\n",
    "            l = [os.path.join(firm,last_file), firm]\n",
    "            for crd in element:\n",
    "                l.append(crd.text)\n",
    "            df = df.append(pd.Series(l),ignore_index = True)\n",
    "df"
   ]
  },
  {
   "cell_type": "code",
   "execution_count": 54,
   "metadata": {},
   "outputs": [],
   "source": [
    "df.loc[df[1]=='Ck Calvin Klein-1',1] = 'Calvin Klein'\n",
    "df.loc[df[1]=='Ck Calvin Klein-2',1] = 'Calvin Klein'\n",
    "\n",
    "df.loc[df[1]=='Coca-Cola Zero',1] = 'coca cola'\n",
    "\n",
    "df.loc[df[1]=='Hyundai-1',1] = 'Hyundai'\n",
    "df.loc[df[1]=='Hyundai-2',1] = 'Hyundai'\n",
    "\n",
    "df.loc[df[1]=='iPhone-1',1] = 'iPhone'\n",
    "df.loc[df[1]=='iPhone-2',1] = 'iPhone'\n",
    "\n",
    "df.loc[df[1]=='lexus-1',1] = 'lexus'\n",
    "df.loc[df[1]=='lexus-2',1] = 'lexus'\n",
    "\n",
    "df.loc[df[1]=='louis vuitton-1',1] = 'louis vuitton'\n",
    "df.loc[df[1]=='louis vuitton-2',1] = 'louis vuitton'\n",
    "\n",
    "df.loc[df[1]=='mcdonalds',1] = \"McDonald's\"\n",
    "\n",
    "df.loc[df[1]=='new balance-1',1] = 'new balance'\n",
    "df.loc[df[1]=='new balance-2',1] = 'new balance'\n",
    "\n",
    "df.loc[df[1]=='pepsi jazz',1] = 'pepsi'\n",
    "df.loc[df[1]=='pepsi lime',1] = 'pepsi'\n",
    "\n",
    "df.loc[df[1]=='uber-1',1] = 'uber'\n",
    "df.loc[df[1]=='uber-2',1] = 'uber'\n",
    "df.loc[df[1]=='uber-3',1] = 'uber'"
   ]
  },
  {
   "cell_type": "code",
   "execution_count": null,
   "metadata": {},
   "outputs": [],
   "source": [
    "##### Transforming smth like uber-1 2 3 into one\n",
    "\n",
    "#Calvin Klein, Ck Calvin Klein-1, Ck Calvin Klein-2\n",
    "#coca cola, Coca-Cola Zero\n",
    "#Hyundai-1, Hyundai-2\n",
    "#iPhone-1, iPhone-2\n",
    "#lexus-1, lexus-2\n",
    "#louis vuitton-1, louis vuitton-2\n",
    "#mcdonalds, McDonald's\n",
    "#new balance-1, new balance-2\n",
    "#pepsi jazz, pepsi lime\n",
    "#uber-1, uber-2, uber-3"
   ]
  },
  {
   "cell_type": "code",
   "execution_count": 29,
   "metadata": {},
   "outputs": [
    {
     "name": "stdout",
     "output_type": "stream",
     "text": [
      "276\n",
      "143\n",
      "459\n",
      "184\n"
     ]
    }
   ],
   "source": [
    "import xml.etree.ElementTree as ET            \n",
    "doc1 = ET.parse(r'D:\\programming\\ML\\Sigmoid\\Logo bluring\\archive (10)\\LogoDet-3K\\Clothes\\2xist\\1.xml')\n",
    "root = doc1.getroot()\n",
    "for element in root.findall('object/bndbox'):\n",
    "    for crd in element:\n",
    "        print(crd.text)"
   ]
  },
  {
   "cell_type": "code",
   "execution_count": 26,
   "metadata": {},
   "outputs": [
    {
     "name": "stdout",
     "output_type": "stream",
     "text": [
      "1\n"
     ]
    },
    {
     "ename": "AttributeError",
     "evalue": "'NodeList' object has no attribute 'text'",
     "output_type": "error",
     "traceback": [
      "\u001b[1;31m---------------------------------------------------------------------------\u001b[0m",
      "\u001b[1;31mAttributeError\u001b[0m                            Traceback (most recent call last)",
      "\u001b[1;32m<ipython-input-26-f4d3201f371d>\u001b[0m in \u001b[0;36m<module>\u001b[1;34m\u001b[0m\n\u001b[0;32m      3\u001b[0m \u001b[0mitemlist\u001b[0m \u001b[1;33m=\u001b[0m \u001b[0mxmldoc\u001b[0m\u001b[1;33m.\u001b[0m\u001b[0mgetElementsByTagName\u001b[0m\u001b[1;33m(\u001b[0m\u001b[1;34m'bndbox'\u001b[0m\u001b[1;33m)\u001b[0m\u001b[1;33m\u001b[0m\u001b[1;33m\u001b[0m\u001b[0m\n\u001b[0;32m      4\u001b[0m \u001b[0mprint\u001b[0m\u001b[1;33m(\u001b[0m\u001b[0mlen\u001b[0m\u001b[1;33m(\u001b[0m\u001b[0mitemlist\u001b[0m\u001b[1;33m)\u001b[0m\u001b[1;33m)\u001b[0m\u001b[1;33m\u001b[0m\u001b[1;33m\u001b[0m\u001b[0m\n\u001b[1;32m----> 5\u001b[1;33m \u001b[0mprint\u001b[0m\u001b[1;33m(\u001b[0m\u001b[0mitemlist\u001b[0m\u001b[1;33m[\u001b[0m\u001b[1;36m0\u001b[0m\u001b[1;33m]\u001b[0m\u001b[1;33m.\u001b[0m\u001b[0mgetElementsByTagName\u001b[0m\u001b[1;33m(\u001b[0m\u001b[1;34m'xmin'\u001b[0m\u001b[1;33m)\u001b[0m\u001b[1;33m.\u001b[0m\u001b[0mtext\u001b[0m\u001b[1;33m)\u001b[0m\u001b[1;33m\u001b[0m\u001b[1;33m\u001b[0m\u001b[0m\n\u001b[0m",
      "\u001b[1;31mAttributeError\u001b[0m: 'NodeList' object has no attribute 'text'"
     ]
    }
   ],
   "source": [
    "from xml.dom import minidom\n",
    "xmldoc = minidom.parse(r'D:\\programming\\ML\\Sigmoid\\Logo bluring\\archive (10)\\LogoDet-3K\\Clothes\\2xist\\1.xml')\n",
    "itemlist = xmldoc.getElementsByTagName('bndbox')\n",
    "print(len(itemlist))\n",
    "print(itemlist[0].getElementsByTagName('xmin'))\n"
   ]
  },
  {
   "cell_type": "code",
   "execution_count": null,
   "metadata": {},
   "outputs": [],
   "source": []
  }
 ],
 "metadata": {
  "kernelspec": {
   "display_name": "Python 3",
   "language": "python",
   "name": "python3"
  },
  "language_info": {
   "codemirror_mode": {
    "name": "ipython",
    "version": 3
   },
   "file_extension": ".py",
   "mimetype": "text/x-python",
   "name": "python",
   "nbconvert_exporter": "python",
   "pygments_lexer": "ipython3",
   "version": "3.8.3"
  }
 },
 "nbformat": 4,
 "nbformat_minor": 4
}
