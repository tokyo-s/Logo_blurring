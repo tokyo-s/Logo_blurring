{
 "cells": [
  {
   "cell_type": "code",
   "execution_count": 280,
   "metadata": {},
   "outputs": [
    {
     "data": {
      "text/plain": [
       "'{\"label\":\"glasses\",\"x\":\"368.00\",\"y\":\"172.00\",\"width\":\"204.00\",\"height\":\"76.00\"}'"
      ]
     },
     "execution_count": 280,
     "metadata": {},
     "output_type": "execute_result"
    }
   ],
   "source": [
    "data = \\\n",
    "'''\n",
    "{\n",
    "    \"extension\": \"jpg\",\n",
    "    \"r\": 0.9917355371900827,\n",
    "    \"updated\": {\n",
    "        \"_seconds\": 1629742910,\n",
    "        \"_nanoseconds\": 922000000\n",
    "    },\n",
    "    \"uploader\": \"eBZkvyyn4Kasd9pCLnkiU45vBtC2\",\n",
    "    \"accumulator\": null,\n",
    "    \"metadata\": {\n",
    "        \"no\": \"metadata\"\n",
    "    },\n",
    "    \"name\": \"99.jpg\",\n",
    "    \"annotations\": {\n",
    "        \"f\": {\n",
    "            \"converted\": \"{\\\"key\\\":\\\"99.jpg\\\",\\\"width\\\":640,\\\"height\\\":637,\\\"boxes\\\":[{\\\"label\\\":\\\"glasses\\\",\\\"x\\\":\\\"368.00\\\",\\\"y\\\":\\\"172.00\\\",\\\"width\\\":\\\"204.00\\\",\\\"height\\\":\\\"76.00\\\"}]}\",\n",
    "            \"lastSet\": \"1629843448699\"\n",
    "        }\n",
    "    },\n",
    "    \"height\": 637,\n",
    "    \"width\": 640,\n",
    "    \"datasets\": [\n",
    "        \"kMqvVbmr3y1Pqu0GljGq\"\n",
    "    ],\n",
    "    \"owner\": \"eBZkvyyn4Kasd9pCLnkiU45vBtC2\",\n",
    "    \"batches\": [\n",
    "        \"kMqvVbmr3y1Pqu0GljGq/nRDntGyELKIXfFXq8Z4r\"\n",
    "    ],\n",
    "    \"hashes\": [\n",
    "        \"34a21498ba7087d61900a3ec6814cb5b\"\n",
    "    ],\n",
    "    \"split.kMqvVbmr3y1Pqu0GljGq\": \"train\",\n",
    "    \"id\": \"t7qLnoVWbQdFMdj5vA30\"\n",
    "}\n",
    "'''\n",
    "data[data.find('\"boxes\\\"')+9:data.find('}]}')+1]"
   ]
  },
  {
   "cell_type": "code",
   "execution_count": 281,
   "metadata": {},
   "outputs": [
    {
     "name": "stdout",
     "output_type": "stream",
     "text": [
      "99.jpg;368.00;172.00;572.0;248.0\n"
     ]
    }
   ],
   "source": [
    "import json\n",
    "\n",
    "temp = data[data.find('\"key\\\"'):data.find('\"boxes\\\"')-1]\n",
    "img_path = temp[temp.find('\"key\"')+7:temp.find('\"width\"')-2]\n",
    "\n",
    "d = json.loads(data[data.find('\"boxes\\\"')+9:data.find('}]}')+1])\n",
    "print(';'.join([img_path,d['x'],d['y'],str(float(d['x'])+float(d['width'])),str(float(d['y'])+float(d['height']))]))"
   ]
  },
  {
   "cell_type": "markdown",
   "metadata": {},
   "source": [
    "# Just Cheking"
   ]
  },
  {
   "cell_type": "code",
   "execution_count": 300,
   "metadata": {},
   "outputs": [
    {
     "data": {
      "text/html": [
       "<div>\n",
       "<style scoped>\n",
       "    .dataframe tbody tr th:only-of-type {\n",
       "        vertical-align: middle;\n",
       "    }\n",
       "\n",
       "    .dataframe tbody tr th {\n",
       "        vertical-align: top;\n",
       "    }\n",
       "\n",
       "    .dataframe thead th {\n",
       "        text-align: right;\n",
       "    }\n",
       "</style>\n",
       "<table border=\"1\" class=\"dataframe\">\n",
       "  <thead>\n",
       "    <tr style=\"text-align: right;\">\n",
       "      <th></th>\n",
       "      <th>image_path</th>\n",
       "      <th>x_min</th>\n",
       "      <th>y_min</th>\n",
       "      <th>x_max</th>\n",
       "      <th>y_max</th>\n",
       "    </tr>\n",
       "  </thead>\n",
       "  <tbody>\n",
       "    <tr>\n",
       "      <th>0</th>\n",
       "      <td>1.jpg</td>\n",
       "      <td>434.5</td>\n",
       "      <td>251.5</td>\n",
       "      <td>789.5</td>\n",
       "      <td>362.5</td>\n",
       "    </tr>\n",
       "    <tr>\n",
       "      <th>1</th>\n",
       "      <td>2.jpg</td>\n",
       "      <td>424.5</td>\n",
       "      <td>209.5</td>\n",
       "      <td>719.5</td>\n",
       "      <td>316.5</td>\n",
       "    </tr>\n",
       "    <tr>\n",
       "      <th>2</th>\n",
       "      <td>3.jpg</td>\n",
       "      <td>263.5</td>\n",
       "      <td>114.5</td>\n",
       "      <td>402.5</td>\n",
       "      <td>181.5</td>\n",
       "    </tr>\n",
       "    <tr>\n",
       "      <th>3</th>\n",
       "      <td>4.jpg</td>\n",
       "      <td>338.0</td>\n",
       "      <td>183.0</td>\n",
       "      <td>690.0</td>\n",
       "      <td>305.0</td>\n",
       "    </tr>\n",
       "    <tr>\n",
       "      <th>4</th>\n",
       "      <td>5.jpg</td>\n",
       "      <td>676.0</td>\n",
       "      <td>490.0</td>\n",
       "      <td>1488.0</td>\n",
       "      <td>800.0</td>\n",
       "    </tr>\n",
       "    <tr>\n",
       "      <th>...</th>\n",
       "      <td>...</td>\n",
       "      <td>...</td>\n",
       "      <td>...</td>\n",
       "      <td>...</td>\n",
       "      <td>...</td>\n",
       "    </tr>\n",
       "    <tr>\n",
       "      <th>116</th>\n",
       "      <td>117.png</td>\n",
       "      <td>265.0</td>\n",
       "      <td>201.5</td>\n",
       "      <td>527.0</td>\n",
       "      <td>280.5</td>\n",
       "    </tr>\n",
       "    <tr>\n",
       "      <th>117</th>\n",
       "      <td>118.jpg</td>\n",
       "      <td>354.5</td>\n",
       "      <td>224.0</td>\n",
       "      <td>649.5</td>\n",
       "      <td>326.0</td>\n",
       "    </tr>\n",
       "    <tr>\n",
       "      <th>118</th>\n",
       "      <td>119.jpg</td>\n",
       "      <td>194.5</td>\n",
       "      <td>110.5</td>\n",
       "      <td>555.5</td>\n",
       "      <td>275.5</td>\n",
       "    </tr>\n",
       "    <tr>\n",
       "      <th>119</th>\n",
       "      <td>120.jpg</td>\n",
       "      <td>626.0</td>\n",
       "      <td>256.5</td>\n",
       "      <td>1114.0</td>\n",
       "      <td>457.5</td>\n",
       "    </tr>\n",
       "    <tr>\n",
       "      <th>120</th>\n",
       "      <td>121.jpg</td>\n",
       "      <td>235.0</td>\n",
       "      <td>251.5</td>\n",
       "      <td>571.0</td>\n",
       "      <td>342.5</td>\n",
       "    </tr>\n",
       "  </tbody>\n",
       "</table>\n",
       "<p>121 rows × 5 columns</p>\n",
       "</div>"
      ],
      "text/plain": [
       "    image_path  x_min  y_min   x_max  y_max\n",
       "0        1.jpg  434.5  251.5   789.5  362.5\n",
       "1        2.jpg  424.5  209.5   719.5  316.5\n",
       "2        3.jpg  263.5  114.5   402.5  181.5\n",
       "3        4.jpg  338.0  183.0   690.0  305.0\n",
       "4        5.jpg  676.0  490.0  1488.0  800.0\n",
       "..         ...    ...    ...     ...    ...\n",
       "116    117.png  265.0  201.5   527.0  280.5\n",
       "117    118.jpg  354.5  224.0   649.5  326.0\n",
       "118    119.jpg  194.5  110.5   555.5  275.5\n",
       "119    120.jpg  626.0  256.5  1114.0  457.5\n",
       "120    121.jpg  235.0  251.5   571.0  342.5\n",
       "\n",
       "[121 rows x 5 columns]"
      ]
     },
     "execution_count": 300,
     "metadata": {},
     "output_type": "execute_result"
    }
   ],
   "source": [
    "import pandas as pd\n",
    "\n",
    "data = pd.read_csv('glasses.csv',delimiter=';')\n",
    "data"
   ]
  },
  {
   "cell_type": "code",
   "execution_count": 301,
   "metadata": {},
   "outputs": [],
   "source": [
    "saved_x_min = data['x_min'].copy()\n",
    "\n",
    "data['x_min']-=(data['x_max']-data['x_min'])//2\n",
    "data['x_max']-=(data['x_max']-saved_x_min)//2\n",
    "\n",
    "saved_y_min = data['y_min'].copy()\n",
    "\n",
    "data['y_min']-=(data['y_max']-data['y_min'])//2\n",
    "data['y_max']-=(data['y_max']-saved_y_min)//2"
   ]
  },
  {
   "cell_type": "code",
   "execution_count": 302,
   "metadata": {},
   "outputs": [],
   "source": [
    "data.to_csv('glasses2.csv', sep = ';', index = False)"
   ]
  },
  {
   "cell_type": "code",
   "execution_count": 284,
   "metadata": {},
   "outputs": [
    {
     "data": {
      "text/plain": [
       "0        1.jpg\n",
       "1        2.jpg\n",
       "2        3.jpg\n",
       "3        4.jpg\n",
       "4        5.jpg\n",
       "        ...   \n",
       "116    117.png\n",
       "117    118.jpg\n",
       "118    119.jpg\n",
       "119    120.jpg\n",
       "120    121.jpg\n",
       "Name: image_path, Length: 121, dtype: object"
      ]
     },
     "execution_count": 284,
     "metadata": {},
     "output_type": "execute_result"
    }
   ],
   "source": [
    "data['image_path']"
   ]
  },
  {
   "cell_type": "code",
   "execution_count": 126,
   "metadata": {},
   "outputs": [
    {
     "data": {
      "text/html": [
       "<div>\n",
       "<style scoped>\n",
       "    .dataframe tbody tr th:only-of-type {\n",
       "        vertical-align: middle;\n",
       "    }\n",
       "\n",
       "    .dataframe tbody tr th {\n",
       "        vertical-align: top;\n",
       "    }\n",
       "\n",
       "    .dataframe thead th {\n",
       "        text-align: right;\n",
       "    }\n",
       "</style>\n",
       "<table border=\"1\" class=\"dataframe\">\n",
       "  <thead>\n",
       "    <tr style=\"text-align: right;\">\n",
       "      <th></th>\n",
       "      <th>img_path</th>\n",
       "      <th>x_min</th>\n",
       "    </tr>\n",
       "  </thead>\n",
       "  <tbody>\n",
       "    <tr>\n",
       "      <th>0</th>\n",
       "      <td>1.jpg</td>\n",
       "      <td>434.50</td>\n",
       "    </tr>\n",
       "  </tbody>\n",
       "</table>\n",
       "</div>"
      ],
      "text/plain": [
       "  img_path   x_min\n",
       "0    1.jpg  434.50"
      ]
     },
     "execution_count": 126,
     "metadata": {},
     "output_type": "execute_result"
    }
   ],
   "source": [
    "# df.loc[-1] = [img_path,d['x']]  # adding a row\n",
    "# df.index = df.index + 1  # shifting index\n",
    "# df = df.sort_index()\n",
    "# df"
   ]
  },
  {
   "cell_type": "code",
   "execution_count": 125,
   "metadata": {},
   "outputs": [],
   "source": [
    "# df = pd.DataFrame(columns = ['img_path','x_min'])"
   ]
  },
  {
   "cell_type": "code",
   "execution_count": null,
   "metadata": {},
   "outputs": [],
   "source": []
  }
 ],
 "metadata": {
  "kernelspec": {
   "display_name": "Python 3",
   "language": "python",
   "name": "python3"
  },
  "language_info": {
   "codemirror_mode": {
    "name": "ipython",
    "version": 3
   },
   "file_extension": ".py",
   "mimetype": "text/x-python",
   "name": "python",
   "nbconvert_exporter": "python",
   "pygments_lexer": "ipython3",
   "version": "3.8.3"
  }
 },
 "nbformat": 4,
 "nbformat_minor": 4
}
